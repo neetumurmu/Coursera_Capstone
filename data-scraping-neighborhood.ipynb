{
 "cells": [
  {
   "cell_type": "markdown",
   "metadata": {},
   "source": [
    "### Import required libraries"
   ]
  },
  {
   "cell_type": "code",
   "execution_count": 1,
   "metadata": {},
   "outputs": [],
   "source": [
    "import pandas as pd\n",
    "import requests\n",
    "from bs4 import BeautifulSoup"
   ]
  },
  {
   "cell_type": "markdown",
   "metadata": {},
   "source": [
    "### Download the URL for scraping"
   ]
  },
  {
   "cell_type": "code",
   "execution_count": 2,
   "metadata": {},
   "outputs": [],
   "source": [
    "page = requests.get('https://en.wikipedia.org/wiki/List_of_postal_codes_of_Canada:_M')\n",
    "soup = BeautifulSoup(page.content, 'html.parser')\n",
    "\n",
    "#find the table containing the data we need\n",
    "table = soup.find(class_='wikitable sortable')\n",
    "table_row = table.find_all('tr') "
   ]
  },
  {
   "cell_type": "markdown",
   "metadata": {},
   "source": [
    "### Data Scraping"
   ]
  },
  {
   "cell_type": "markdown",
   "metadata": {},
   "source": [
    "#### Initialize DataFrame"
   ]
  },
  {
   "cell_type": "code",
   "execution_count": 3,
   "metadata": {},
   "outputs": [
    {
     "data": {
      "text/html": [
       "<div>\n",
       "<style scoped>\n",
       "    .dataframe tbody tr th:only-of-type {\n",
       "        vertical-align: middle;\n",
       "    }\n",
       "\n",
       "    .dataframe tbody tr th {\n",
       "        vertical-align: top;\n",
       "    }\n",
       "\n",
       "    .dataframe thead th {\n",
       "        text-align: right;\n",
       "    }\n",
       "</style>\n",
       "<table border=\"1\" class=\"dataframe\">\n",
       "  <thead>\n",
       "    <tr style=\"text-align: right;\">\n",
       "      <th></th>\n",
       "      <th>PostCode</th>\n",
       "      <th>Borough</th>\n",
       "      <th>Neighborhood</th>\n",
       "    </tr>\n",
       "  </thead>\n",
       "  <tbody>\n",
       "  </tbody>\n",
       "</table>\n",
       "</div>"
      ],
      "text/plain": [
       "Empty DataFrame\n",
       "Columns: [PostCode, Borough, Neighborhood]\n",
       "Index: []"
      ]
     },
     "execution_count": 3,
     "metadata": {},
     "output_type": "execute_result"
    }
   ],
   "source": [
    "column_names = ['PostCode', 'Borough', 'Neighborhood']\n",
    "postal = pd.DataFrame(columns=column_names)\n",
    "postal"
   ]
  },
  {
   "cell_type": "markdown",
   "metadata": {},
   "source": [
    "#### Fill DataFrame"
   ]
  },
  {
   "cell_type": "code",
   "execution_count": 4,
   "metadata": {},
   "outputs": [
    {
     "data": {
      "text/html": [
       "<div>\n",
       "<style scoped>\n",
       "    .dataframe tbody tr th:only-of-type {\n",
       "        vertical-align: middle;\n",
       "    }\n",
       "\n",
       "    .dataframe tbody tr th {\n",
       "        vertical-align: top;\n",
       "    }\n",
       "\n",
       "    .dataframe thead th {\n",
       "        text-align: right;\n",
       "    }\n",
       "</style>\n",
       "<table border=\"1\" class=\"dataframe\">\n",
       "  <thead>\n",
       "    <tr style=\"text-align: right;\">\n",
       "      <th></th>\n",
       "      <th>PostCode</th>\n",
       "      <th>Borough</th>\n",
       "      <th>Neighborhood</th>\n",
       "    </tr>\n",
       "  </thead>\n",
       "  <tbody>\n",
       "    <tr>\n",
       "      <th>0</th>\n",
       "      <td>M1A</td>\n",
       "      <td>Not assigned</td>\n",
       "      <td>Not assigned\\n</td>\n",
       "    </tr>\n",
       "    <tr>\n",
       "      <th>1</th>\n",
       "      <td>M2A</td>\n",
       "      <td>Not assigned</td>\n",
       "      <td>Not assigned\\n</td>\n",
       "    </tr>\n",
       "    <tr>\n",
       "      <th>2</th>\n",
       "      <td>M3A</td>\n",
       "      <td>North York</td>\n",
       "      <td>Parkwoods\\n</td>\n",
       "    </tr>\n",
       "    <tr>\n",
       "      <th>3</th>\n",
       "      <td>M4A</td>\n",
       "      <td>North York</td>\n",
       "      <td>Victoria Village\\n</td>\n",
       "    </tr>\n",
       "    <tr>\n",
       "      <th>4</th>\n",
       "      <td>M5A</td>\n",
       "      <td>Downtown Toronto</td>\n",
       "      <td>Harbourfront\\n</td>\n",
       "    </tr>\n",
       "  </tbody>\n",
       "</table>\n",
       "</div>"
      ],
      "text/plain": [
       "  PostCode           Borough        Neighborhood\n",
       "0      M1A      Not assigned      Not assigned\\n\n",
       "1      M2A      Not assigned      Not assigned\\n\n",
       "2      M3A        North York         Parkwoods\\n\n",
       "3      M4A        North York  Victoria Village\\n\n",
       "4      M5A  Downtown Toronto      Harbourfront\\n"
      ]
     },
     "execution_count": 4,
     "metadata": {},
     "output_type": "execute_result"
    }
   ],
   "source": [
    "for tr in table_row[1:]:\n",
    "    tr = tr.find_all('td')\n",
    "    table_row_data = [data.get_text() for data in tr] \n",
    "    postcode = table_row_data[0]\n",
    "    borough = table_row_data[1]\n",
    "    neighborhood = table_row_data[2]\n",
    "    postal = postal.append({'PostCode' : postcode,\n",
    "                           'Borough' : borough,\n",
    "                           'Neighborhood': neighborhood}, ignore_index=True)\n",
    "    \n",
    "postal.head()"
   ]
  },
  {
   "cell_type": "markdown",
   "metadata": {},
   "source": [
    "#### Remove the newline at the end from neighborhood "
   ]
  },
  {
   "cell_type": "code",
   "execution_count": 5,
   "metadata": {},
   "outputs": [
    {
     "data": {
      "text/html": [
       "<div>\n",
       "<style scoped>\n",
       "    .dataframe tbody tr th:only-of-type {\n",
       "        vertical-align: middle;\n",
       "    }\n",
       "\n",
       "    .dataframe tbody tr th {\n",
       "        vertical-align: top;\n",
       "    }\n",
       "\n",
       "    .dataframe thead th {\n",
       "        text-align: right;\n",
       "    }\n",
       "</style>\n",
       "<table border=\"1\" class=\"dataframe\">\n",
       "  <thead>\n",
       "    <tr style=\"text-align: right;\">\n",
       "      <th></th>\n",
       "      <th>PostCode</th>\n",
       "      <th>Borough</th>\n",
       "      <th>Neighborhood</th>\n",
       "    </tr>\n",
       "  </thead>\n",
       "  <tbody>\n",
       "    <tr>\n",
       "      <th>0</th>\n",
       "      <td>M1A</td>\n",
       "      <td>Not assigned</td>\n",
       "      <td>Not assigned</td>\n",
       "    </tr>\n",
       "    <tr>\n",
       "      <th>1</th>\n",
       "      <td>M2A</td>\n",
       "      <td>Not assigned</td>\n",
       "      <td>Not assigned</td>\n",
       "    </tr>\n",
       "    <tr>\n",
       "      <th>2</th>\n",
       "      <td>M3A</td>\n",
       "      <td>North York</td>\n",
       "      <td>Parkwoods</td>\n",
       "    </tr>\n",
       "    <tr>\n",
       "      <th>3</th>\n",
       "      <td>M4A</td>\n",
       "      <td>North York</td>\n",
       "      <td>Victoria Village</td>\n",
       "    </tr>\n",
       "    <tr>\n",
       "      <th>4</th>\n",
       "      <td>M5A</td>\n",
       "      <td>Downtown Toronto</td>\n",
       "      <td>Harbourfront</td>\n",
       "    </tr>\n",
       "  </tbody>\n",
       "</table>\n",
       "</div>"
      ],
      "text/plain": [
       "  PostCode           Borough      Neighborhood\n",
       "0      M1A      Not assigned      Not assigned\n",
       "1      M2A      Not assigned      Not assigned\n",
       "2      M3A        North York         Parkwoods\n",
       "3      M4A        North York  Victoria Village\n",
       "4      M5A  Downtown Toronto      Harbourfront"
      ]
     },
     "execution_count": 5,
     "metadata": {},
     "output_type": "execute_result"
    }
   ],
   "source": [
    "postal['Neighborhood'] = [col.split('\\n')[0] for col in postal['Neighborhood']]\n",
    "postal.head()                                   "
   ]
  },
  {
   "cell_type": "markdown",
   "metadata": {},
   "source": [
    "#### 1. Ignore cells with a borough that is Not assigned\n",
    "\n",
    "#### 2. Merge Neighborhoods with same postal code"
   ]
  },
  {
   "cell_type": "code",
   "execution_count": 6,
   "metadata": {},
   "outputs": [
    {
     "data": {
      "text/html": [
       "<div>\n",
       "<style scoped>\n",
       "    .dataframe tbody tr th:only-of-type {\n",
       "        vertical-align: middle;\n",
       "    }\n",
       "\n",
       "    .dataframe tbody tr th {\n",
       "        vertical-align: top;\n",
       "    }\n",
       "\n",
       "    .dataframe thead th {\n",
       "        text-align: right;\n",
       "    }\n",
       "</style>\n",
       "<table border=\"1\" class=\"dataframe\">\n",
       "  <thead>\n",
       "    <tr style=\"text-align: right;\">\n",
       "      <th></th>\n",
       "      <th>PostCode</th>\n",
       "      <th>Borough</th>\n",
       "      <th>Neighborhood</th>\n",
       "    </tr>\n",
       "  </thead>\n",
       "  <tbody>\n",
       "    <tr>\n",
       "      <th>2</th>\n",
       "      <td>M3A</td>\n",
       "      <td>North York</td>\n",
       "      <td>Parkwoods</td>\n",
       "    </tr>\n",
       "    <tr>\n",
       "      <th>3</th>\n",
       "      <td>M4A</td>\n",
       "      <td>North York</td>\n",
       "      <td>Victoria Village</td>\n",
       "    </tr>\n",
       "    <tr>\n",
       "      <th>4</th>\n",
       "      <td>M5A</td>\n",
       "      <td>Downtown Toronto</td>\n",
       "      <td>Harbourfront,Regent Park</td>\n",
       "    </tr>\n",
       "    <tr>\n",
       "      <th>6</th>\n",
       "      <td>M6A</td>\n",
       "      <td>North York</td>\n",
       "      <td>Lawrence Heights,Lawrence Manor</td>\n",
       "    </tr>\n",
       "    <tr>\n",
       "      <th>8</th>\n",
       "      <td>M7A</td>\n",
       "      <td>Queen's Park</td>\n",
       "      <td>Not assigned</td>\n",
       "    </tr>\n",
       "  </tbody>\n",
       "</table>\n",
       "</div>"
      ],
      "text/plain": [
       "  PostCode           Borough                     Neighborhood\n",
       "2      M3A        North York                        Parkwoods\n",
       "3      M4A        North York                 Victoria Village\n",
       "4      M5A  Downtown Toronto         Harbourfront,Regent Park\n",
       "6      M6A        North York  Lawrence Heights,Lawrence Manor\n",
       "8      M7A      Queen's Park                     Not assigned"
      ]
     },
     "execution_count": 6,
     "metadata": {},
     "output_type": "execute_result"
    }
   ],
   "source": [
    "#Ignore cells with a borough that is Not assigned\n",
    "postal = postal.loc[postal['Borough'] != 'Not assigned']\n",
    "dfc = postal.copy()\n",
    "\n",
    "#Merge neighborhoods with same postal code\n",
    "for group, member in dfc.groupby('PostCode'):\n",
    "    index = []\n",
    "    for i in range(0, len(member)):\n",
    "        index.append(member.iloc[i].name)\n",
    "    \n",
    "    target = index[0]\n",
    "        \n",
    "    for i in range (1, len(member)):\n",
    "        temp = member.loc[target, ['Neighborhood']].values[0]  + ',' + member.iloc[i]['Neighborhood']\n",
    "        dfc.loc[target, 'Neighborhood'] = temp\n",
    "\n",
    "    for i in range(1, len(member)):\n",
    "        dfc.drop(index[i], inplace=True)\n",
    "\n",
    "dfc.head()"
   ]
  },
  {
   "cell_type": "markdown",
   "metadata": {},
   "source": [
    "#### If a cell has a borough but a Not assigned neighborhood, then the neighborhood will be the same as the borough\n"
   ]
  },
  {
   "cell_type": "code",
   "execution_count": 7,
   "metadata": {},
   "outputs": [
    {
     "data": {
      "text/html": [
       "<div>\n",
       "<style scoped>\n",
       "    .dataframe tbody tr th:only-of-type {\n",
       "        vertical-align: middle;\n",
       "    }\n",
       "\n",
       "    .dataframe tbody tr th {\n",
       "        vertical-align: top;\n",
       "    }\n",
       "\n",
       "    .dataframe thead th {\n",
       "        text-align: right;\n",
       "    }\n",
       "</style>\n",
       "<table border=\"1\" class=\"dataframe\">\n",
       "  <thead>\n",
       "    <tr style=\"text-align: right;\">\n",
       "      <th></th>\n",
       "      <th>PostCode</th>\n",
       "      <th>Borough</th>\n",
       "      <th>Neighborhood</th>\n",
       "    </tr>\n",
       "  </thead>\n",
       "  <tbody>\n",
       "    <tr>\n",
       "      <th>2</th>\n",
       "      <td>M3A</td>\n",
       "      <td>North York</td>\n",
       "      <td>Parkwoods</td>\n",
       "    </tr>\n",
       "    <tr>\n",
       "      <th>3</th>\n",
       "      <td>M4A</td>\n",
       "      <td>North York</td>\n",
       "      <td>Victoria Village</td>\n",
       "    </tr>\n",
       "    <tr>\n",
       "      <th>4</th>\n",
       "      <td>M5A</td>\n",
       "      <td>Downtown Toronto</td>\n",
       "      <td>Harbourfront,Regent Park</td>\n",
       "    </tr>\n",
       "    <tr>\n",
       "      <th>6</th>\n",
       "      <td>M6A</td>\n",
       "      <td>North York</td>\n",
       "      <td>Lawrence Heights,Lawrence Manor</td>\n",
       "    </tr>\n",
       "    <tr>\n",
       "      <th>8</th>\n",
       "      <td>M7A</td>\n",
       "      <td>Queen's Park</td>\n",
       "      <td>Queen's Park</td>\n",
       "    </tr>\n",
       "  </tbody>\n",
       "</table>\n",
       "</div>"
      ],
      "text/plain": [
       "  PostCode           Borough                     Neighborhood\n",
       "2      M3A        North York                        Parkwoods\n",
       "3      M4A        North York                 Victoria Village\n",
       "4      M5A  Downtown Toronto         Harbourfront,Regent Park\n",
       "6      M6A        North York  Lawrence Heights,Lawrence Manor\n",
       "8      M7A      Queen's Park                     Queen's Park"
      ]
     },
     "execution_count": 7,
     "metadata": {},
     "output_type": "execute_result"
    }
   ],
   "source": [
    "for index, row in dfc.iterrows():\n",
    "    if ((row['Neighborhood'] == 'Not assigned') & (row['Borough'] != 'Not assigned')):\n",
    "        row['Neighborhood'] = row['Borough']\n",
    "\n",
    "dfc.head()"
   ]
  },
  {
   "cell_type": "markdown",
   "metadata": {},
   "source": [
    "#### Print shape of final DataFrame"
   ]
  },
  {
   "cell_type": "code",
   "execution_count": 8,
   "metadata": {},
   "outputs": [
    {
     "data": {
      "text/plain": [
       "(103, 3)"
      ]
     },
     "execution_count": 8,
     "metadata": {},
     "output_type": "execute_result"
    }
   ],
   "source": [
    "dfc = dfc.reset_index()\n",
    "dfc = dfc.drop(columns=['index'])\n",
    "dfc.shape"
   ]
  },
  {
   "cell_type": "markdown",
   "metadata": {},
   "source": [
    "### Get latitude and longitude using geopy"
   ]
  },
  {
   "cell_type": "code",
   "execution_count": 9,
   "metadata": {},
   "outputs": [],
   "source": [
    "from geopy.geocoders import Nominatim"
   ]
  },
  {
   "cell_type": "code",
   "execution_count": 10,
   "metadata": {},
   "outputs": [
    {
     "name": "stdout",
     "output_type": "stream",
     "text": [
      "The geograpical coordinate of Lawrence Heights, North York are 43.7227784, -79.4509332.\n"
     ]
    }
   ],
   "source": [
    "address = 'Lawrence Heights, North York'\n",
    "geolocator = Nominatim(user_agent=\"ny_explorer\")\n",
    "location = geolocator.geocode(address)\n",
    "latitude = location.latitude\n",
    "longitude = location.longitude\n",
    "print('The geograpical coordinate of {} are {}, {}.'.format(address, latitude, longitude))"
   ]
  },
  {
   "cell_type": "markdown",
   "metadata": {},
   "source": [
    "\n",
    "Since, each query takes some time and also for few addresses, geopy returns error for some reason, we would use data from a csv file which already has LAT, LANG for each postal address."
   ]
  },
  {
   "cell_type": "markdown",
   "metadata": {},
   "source": [
    "#### Read csv file consisting latitudes and longitudes"
   ]
  },
  {
   "cell_type": "code",
   "execution_count": 11,
   "metadata": {},
   "outputs": [
    {
     "data": {
      "text/html": [
       "<div>\n",
       "<style scoped>\n",
       "    .dataframe tbody tr th:only-of-type {\n",
       "        vertical-align: middle;\n",
       "    }\n",
       "\n",
       "    .dataframe tbody tr th {\n",
       "        vertical-align: top;\n",
       "    }\n",
       "\n",
       "    .dataframe thead th {\n",
       "        text-align: right;\n",
       "    }\n",
       "</style>\n",
       "<table border=\"1\" class=\"dataframe\">\n",
       "  <thead>\n",
       "    <tr style=\"text-align: right;\">\n",
       "      <th></th>\n",
       "      <th>Postal Code</th>\n",
       "      <th>Latitude</th>\n",
       "      <th>Longitude</th>\n",
       "    </tr>\n",
       "  </thead>\n",
       "  <tbody>\n",
       "    <tr>\n",
       "      <th>0</th>\n",
       "      <td>M1B</td>\n",
       "      <td>43.806686</td>\n",
       "      <td>-79.194353</td>\n",
       "    </tr>\n",
       "    <tr>\n",
       "      <th>1</th>\n",
       "      <td>M1C</td>\n",
       "      <td>43.784535</td>\n",
       "      <td>-79.160497</td>\n",
       "    </tr>\n",
       "    <tr>\n",
       "      <th>2</th>\n",
       "      <td>M1E</td>\n",
       "      <td>43.763573</td>\n",
       "      <td>-79.188711</td>\n",
       "    </tr>\n",
       "    <tr>\n",
       "      <th>3</th>\n",
       "      <td>M1G</td>\n",
       "      <td>43.770992</td>\n",
       "      <td>-79.216917</td>\n",
       "    </tr>\n",
       "    <tr>\n",
       "      <th>4</th>\n",
       "      <td>M1H</td>\n",
       "      <td>43.773136</td>\n",
       "      <td>-79.239476</td>\n",
       "    </tr>\n",
       "  </tbody>\n",
       "</table>\n",
       "</div>"
      ],
      "text/plain": [
       "  Postal Code   Latitude  Longitude\n",
       "0         M1B  43.806686 -79.194353\n",
       "1         M1C  43.784535 -79.160497\n",
       "2         M1E  43.763573 -79.188711\n",
       "3         M1G  43.770992 -79.216917\n",
       "4         M1H  43.773136 -79.239476"
      ]
     },
     "execution_count": 11,
     "metadata": {},
     "output_type": "execute_result"
    }
   ],
   "source": [
    "import pandas as pd\n",
    "df_ll =pd.read_csv('Geospatial_Coordinates.csv')\n",
    "df_ll.head()"
   ]
  },
  {
   "cell_type": "markdown",
   "metadata": {},
   "source": [
    "#### Merge the two dataframes"
   ]
  },
  {
   "cell_type": "code",
   "execution_count": 12,
   "metadata": {},
   "outputs": [
    {
     "data": {
      "text/html": [
       "<div>\n",
       "<style scoped>\n",
       "    .dataframe tbody tr th:only-of-type {\n",
       "        vertical-align: middle;\n",
       "    }\n",
       "\n",
       "    .dataframe tbody tr th {\n",
       "        vertical-align: top;\n",
       "    }\n",
       "\n",
       "    .dataframe thead th {\n",
       "        text-align: right;\n",
       "    }\n",
       "</style>\n",
       "<table border=\"1\" class=\"dataframe\">\n",
       "  <thead>\n",
       "    <tr style=\"text-align: right;\">\n",
       "      <th></th>\n",
       "      <th>PostCode</th>\n",
       "      <th>Borough</th>\n",
       "      <th>Neighborhood</th>\n",
       "      <th>Latitude</th>\n",
       "      <th>Longitude</th>\n",
       "    </tr>\n",
       "  </thead>\n",
       "  <tbody>\n",
       "    <tr>\n",
       "      <th>0</th>\n",
       "      <td>M3A</td>\n",
       "      <td>North York</td>\n",
       "      <td>Parkwoods</td>\n",
       "      <td>43.753259</td>\n",
       "      <td>-79.329656</td>\n",
       "    </tr>\n",
       "    <tr>\n",
       "      <th>1</th>\n",
       "      <td>M4A</td>\n",
       "      <td>North York</td>\n",
       "      <td>Victoria Village</td>\n",
       "      <td>43.725882</td>\n",
       "      <td>-79.315572</td>\n",
       "    </tr>\n",
       "    <tr>\n",
       "      <th>2</th>\n",
       "      <td>M5A</td>\n",
       "      <td>Downtown Toronto</td>\n",
       "      <td>Harbourfront,Regent Park</td>\n",
       "      <td>43.654260</td>\n",
       "      <td>-79.360636</td>\n",
       "    </tr>\n",
       "    <tr>\n",
       "      <th>3</th>\n",
       "      <td>M6A</td>\n",
       "      <td>North York</td>\n",
       "      <td>Lawrence Heights,Lawrence Manor</td>\n",
       "      <td>43.718518</td>\n",
       "      <td>-79.464763</td>\n",
       "    </tr>\n",
       "    <tr>\n",
       "      <th>4</th>\n",
       "      <td>M7A</td>\n",
       "      <td>Queen's Park</td>\n",
       "      <td>Queen's Park</td>\n",
       "      <td>43.662301</td>\n",
       "      <td>-79.389494</td>\n",
       "    </tr>\n",
       "  </tbody>\n",
       "</table>\n",
       "</div>"
      ],
      "text/plain": [
       "  PostCode           Borough                     Neighborhood   Latitude  \\\n",
       "0      M3A        North York                        Parkwoods  43.753259   \n",
       "1      M4A        North York                 Victoria Village  43.725882   \n",
       "2      M5A  Downtown Toronto         Harbourfront,Regent Park  43.654260   \n",
       "3      M6A        North York  Lawrence Heights,Lawrence Manor  43.718518   \n",
       "4      M7A      Queen's Park                     Queen's Park  43.662301   \n",
       "\n",
       "   Longitude  \n",
       "0 -79.329656  \n",
       "1 -79.315572  \n",
       "2 -79.360636  \n",
       "3 -79.464763  \n",
       "4 -79.389494  "
      ]
     },
     "execution_count": 12,
     "metadata": {},
     "output_type": "execute_result"
    }
   ],
   "source": [
    "df_postal = pd.merge(dfc, df_ll, how='left', left_on='PostCode', right_on='Postal Code')\n",
    "df_postal.drop(columns=['Postal Code'], inplace=True)\n",
    "df_postal.head()"
   ]
  },
  {
   "cell_type": "code",
   "execution_count": 13,
   "metadata": {},
   "outputs": [
    {
     "data": {
      "text/plain": [
       "True"
      ]
     },
     "execution_count": 13,
     "metadata": {},
     "output_type": "execute_result"
    }
   ],
   "source": [
    "#check if merged dataframe has all the data\n",
    "df_temp = df_postal[['PostCode', 'Borough', 'Neighborhood']]\n",
    "df_temp.equals(dfc)"
   ]
  },
  {
   "cell_type": "markdown",
   "metadata": {},
   "source": [
    "### Create map with Folium\n"
   ]
  },
  {
   "cell_type": "code",
   "execution_count": 14,
   "metadata": {},
   "outputs": [],
   "source": [
    "import folium\n",
    "latitude = 43.753259\n",
    "longitude = -79.329656\n",
    "map_newyork = folium.Map(location=[latitude, longitude], zoom_start=10)"
   ]
  },
  {
   "cell_type": "code",
   "execution_count": 15,
   "metadata": {},
   "outputs": [],
   "source": [
    "# add markers to map\n",
    "neighborhoods = df_postal\n",
    "for pc, lat, lng, borough, neighborhood in zip(neighborhoods['PostCode'], neighborhoods['Latitude'], neighborhoods['Longitude'], neighborhoods['Borough'], neighborhoods['Neighborhood']):\n",
    "    label = '{}, {}'.format(pc, neighborhood, borough)\n",
    "    label = folium.Popup(label, parse_html=True)\n",
    "    folium.CircleMarker(\n",
    "        [lat, lng],\n",
    "        radius=4,\n",
    "        popup=label,\n",
    "        color='green',\n",
    "        fill=True,\n",
    "        fill_color='green',\n",
    "        fill_opacity=0.7,\n",
    "        parse_html=False).add_to(map_newyork)  "
   ]
  },
  {
   "cell_type": "code",
   "execution_count": 16,
   "metadata": {},
   "outputs": [
    {
     "data": {
      "text/html": [
       "<div style=\"width:100%;\"><div style=\"position:relative;width:100%;height:0;padding-bottom:60%;\"><iframe src=\"data:text/html;charset=utf-8;base64,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\" style=\"position:absolute;width:100%;height:100%;left:0;top:0;border:none !important;\" allowfullscreen webkitallowfullscreen mozallowfullscreen></iframe></div></div>"
      ],
      "text/plain": [
       "<folium.folium.Map at 0x1f25a72fb88>"
      ]
     },
     "execution_count": 16,
     "metadata": {},
     "output_type": "execute_result"
    }
   ],
   "source": [
    "map_newyork"
   ]
  },
  {
   "cell_type": "code",
   "execution_count": null,
   "metadata": {},
   "outputs": [],
   "source": []
  }
 ],
 "metadata": {
  "kernelspec": {
   "display_name": "Python 3",
   "language": "python",
   "name": "python3"
  },
  "language_info": {
   "codemirror_mode": {
    "name": "ipython",
    "version": 3
   },
   "file_extension": ".py",
   "mimetype": "text/x-python",
   "name": "python",
   "nbconvert_exporter": "python",
   "pygments_lexer": "ipython3",
   "version": "3.7.4"
  }
 },
 "nbformat": 4,
 "nbformat_minor": 2
}
